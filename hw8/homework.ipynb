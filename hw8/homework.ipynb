{
 "cells": [
  {
   "cell_type": "markdown",
   "metadata": {},
   "source": [
    "## Homework: Deep Jazz"
   ]
  },
  {
   "cell_type": "code",
   "execution_count": 1,
   "metadata": {
    "collapsed": true
   },
   "outputs": [],
   "source": [
    "import numpy as np\n",
    "from music21 import stream, midi, tempo, note\n",
    "\n",
    "from grammar import unparse_grammar\n",
    "from preprocess import get_musical_data, get_corpus_data\n",
    "\n",
    "from qa import prune_grammar, prune_notes, clean_up_notes\n",
    "from generator import __sample, __generate_grammar, __predict"
   ]
  },
  {
   "cell_type": "code",
   "execution_count": 2,
   "metadata": {
    "collapsed": true
   },
   "outputs": [],
   "source": [
    "N_epochs = 128  # default\n",
    "data_fn = 'midi/' + 'original_metheny.mid'  # 'And Then I Knew' by Pat Metheny\n",
    "out_fn = 'midi/' 'deepjazz_on_metheny...' + str(N_epochs)"
   ]
  },
  {
   "cell_type": "code",
   "execution_count": 3,
   "metadata": {},
   "outputs": [
    {
     "name": "stdout",
     "output_type": "stream",
     "text": [
      "corpus length: 193\n",
      "total # of values: 78\n"
     ]
    }
   ],
   "source": [
    "max_len = 20\n",
    "max_tries = 1000\n",
    "diversity = 0.5\n",
    "\n",
    "# musical settings\n",
    "bpm = 130\n",
    "\n",
    "# get data\n",
    "chords, abstract_grammars = get_musical_data(data_fn)\n",
    "corpus, values, val_indices, indices_val = get_corpus_data(abstract_grammars)\n",
    "print('corpus length:', len(corpus))\n",
    "print('total # of values:', len(values))"
   ]
  },
  {
   "cell_type": "code",
   "execution_count": 4,
   "metadata": {},
   "outputs": [
    {
     "data": {
      "text/plain": [
       "[<music21.instrument.Piano Piano>,\n",
       " <music21.tempo.MetronomeMark Quarter=112.0>,\n",
       " <music21.key.Key of G major>,\n",
       " <music21.meter.TimeSignature 4/4>]"
      ]
     },
     "execution_count": 4,
     "metadata": {},
     "output_type": "execute_result"
    }
   ],
   "source": [
    "chords[0]"
   ]
  },
  {
   "cell_type": "code",
   "execution_count": 5,
   "metadata": {},
   "outputs": [
    {
     "ename": "ModuleNotFoundError",
     "evalue": "No module named 'keras'",
     "output_type": "error",
     "traceback": [
      "\u001b[0;31m---------------------------------------------------------------------------\u001b[0m",
      "\u001b[0;31mModuleNotFoundError\u001b[0m                       Traceback (most recent call last)",
      "\u001b[0;32m<ipython-input-5-e341113c67a5>\u001b[0m in \u001b[0;36m<module>\u001b[0;34m()\u001b[0m\n\u001b[0;32m----> 1\u001b[0;31m \u001b[0;32mfrom\u001b[0m \u001b[0mkeras\u001b[0m\u001b[0;34m.\u001b[0m\u001b[0mmodels\u001b[0m \u001b[0;32mimport\u001b[0m \u001b[0mSequential\u001b[0m\u001b[0;34m\u001b[0m\u001b[0m\n\u001b[0m\u001b[1;32m      2\u001b[0m \u001b[0;32mfrom\u001b[0m \u001b[0mkeras\u001b[0m\u001b[0;34m.\u001b[0m\u001b[0mlayers\u001b[0m\u001b[0;34m.\u001b[0m\u001b[0mcore\u001b[0m \u001b[0;32mimport\u001b[0m \u001b[0mDense\u001b[0m\u001b[0;34m,\u001b[0m \u001b[0mActivation\u001b[0m\u001b[0;34m,\u001b[0m \u001b[0mDropout\u001b[0m\u001b[0;34m\u001b[0m\u001b[0m\n\u001b[1;32m      3\u001b[0m \u001b[0;32mfrom\u001b[0m \u001b[0mkeras\u001b[0m\u001b[0;34m.\u001b[0m\u001b[0mlayers\u001b[0m\u001b[0;34m.\u001b[0m\u001b[0mrecurrent\u001b[0m \u001b[0;32mimport\u001b[0m \u001b[0mLSTM\u001b[0m\u001b[0;34m\u001b[0m\u001b[0m\n\u001b[1;32m      4\u001b[0m \u001b[0;34m\u001b[0m\u001b[0m\n\u001b[1;32m      5\u001b[0m \u001b[0;32mdef\u001b[0m \u001b[0mget_keras_model\u001b[0m\u001b[0;34m(\u001b[0m\u001b[0mmax_len\u001b[0m\u001b[0;34m,\u001b[0m \u001b[0mN_values\u001b[0m\u001b[0;34m)\u001b[0m\u001b[0;34m:\u001b[0m\u001b[0;34m\u001b[0m\u001b[0m\n",
      "\u001b[0;31mModuleNotFoundError\u001b[0m: No module named 'keras'"
     ]
    }
   ],
   "source": [
    "from keras.models import Sequential\n",
    "from keras.layers.core import Dense, Activation, Dropout\n",
    "from keras.layers.recurrent import LSTM\n",
    "\n",
    "def get_keras_model(max_len, N_values):\n",
    "    # build a 2 stacked LSTM\n",
    "    model = Sequential()\n",
    "    model.add(LSTM(128, return_sequences=True, input_shape=(max_len, N_values)))\n",
    "    model.add(Dropout(0.2))\n",
    "    model.add(LSTM(128, return_sequences=False))\n",
    "    model.add(Dropout(0.2))\n",
    "    model.add(Dense(N_values))\n",
    "    model.add(Activation('softmax'))\n",
    "\n",
    "    model.compile(loss='categorical_crossentropy', optimizer='rmsprop')\n",
    "    return model"
   ]
  },
  {
   "cell_type": "markdown",
   "metadata": {},
   "source": [
    "## Task"
   ]
  },
  {
   "cell_type": "markdown",
   "metadata": {},
   "source": [
    "Replace previous model with equivalent in prettytensor or tf.slim\n",
    "\n",
    "Try to make you code as compact as possible"
   ]
  },
  {
   "cell_type": "code",
   "execution_count": 5,
   "metadata": {
    "collapsed": true
   },
   "outputs": [],
   "source": [
    "import prettytensor as pt\n",
    "import tensorflow as tf\n",
    "from tensorflow.contrib import rnn\n",
    "\n",
    "class DeepJazzModel:\n",
    "    def __init__(self, max_len, N_values):\n",
    "        self.max_len = max_len\n",
    "        self.N_values = N_values\n",
    "        self.x = tf.placeholder(tf.float32, shape=[None, max_len, N_values], name='x')\n",
    "        self.y = tf.placeholder(tf.float32, [None, self.N_values], name = 'y')\n",
    "        self.sess = tf.Session()\n",
    "    \n",
    "    def __create_network(self, training=True):\n",
    "        lstm_cell = rnn.MultiRNNCell([rnn.BasicLSTMCell(128, forget_bias=1.0), rnn.BasicLSTMCell(128, forget_bias=1.0)])\n",
    "        outputs, states = tf.nn.dynamic_rnn(lstm_cell, self.x, dtype=tf.float32)\n",
    "        last_out = tf.transpose(outputs, [1, 0, 2])[-1]\n",
    "        \n",
    "        weights = tf.Variable(tf.truncated_normal([128, self.N_values], stddev=0.05), trainable=True)\n",
    "        baises = tf.Variable(tf.truncated_normal(shape=[self.N_values], stddev=0.05))\n",
    "        fc = tf.matmul(last_out, weights) + baises\n",
    "        \n",
    "        self.y_pred = tf.nn.softmax(fc)\n",
    "        cross_entropy = tf.nn.softmax_cross_entropy_with_logits(logits=fc, labels=self.y)\n",
    "        self.loss = tf.reduce_mean(cross_entropy)\n",
    "    \n",
    "    \n",
    "    def random_batch(self, X, y, batch_size):\n",
    "        num = len(X)\n",
    "        idx = np.random.choice(num,\n",
    "                           size=batch_size,\n",
    "                           replace=False)\n",
    "        x_batch = X[idx, :, :]\n",
    "        y_batch = y[idx, :]\n",
    "\n",
    "        return x_batch, y_batch\n",
    "    \n",
    "    def fit(self, X, y, batch_size, epochs):\n",
    "        global_step = tf.Variable(initial_value=0, name='global_step', trainable=False)\n",
    "        self.__create_network()\n",
    "        optimizer = tf.train.RMSPropOptimizer(learning_rate=1e-4).minimize(self.loss, global_step=global_step)\n",
    "        self.sess.run(tf.global_variables_initializer())\n",
    "        \n",
    "        for i in range(epochs):\n",
    "            x_batch, y_true_batch = self.random_batch(X, y, batch_size)\n",
    "            feed_dict_train = {self.x: x_batch, self.y: y_true_batch}\n",
    "            self.sess.run(optimizer, feed_dict=feed_dict_train)\n",
    "    \n",
    "    \n",
    "    #model.predict(x, verbose=0)[0]\n",
    "    def predict(self, x, verbose):\n",
    "        feed_dict = {self.x: x}\n",
    "        #y_pred_class = tf.argmax(self.y_pred, axis=1)\n",
    "        y_pred = self.sess.run(self.y_pred, feed_dict=feed_dict)\n",
    "        return y_pred\n",
    "    "
   ]
  },
  {
   "cell_type": "code",
   "execution_count": 6,
   "metadata": {
    "collapsed": true
   },
   "outputs": [],
   "source": [
    "def get_pretty_tensor_model(max_len, N_values):\n",
    "    return DeepJazzModel(max_len, N_values)"
   ]
  },
  {
   "cell_type": "code",
   "execution_count": 7,
   "metadata": {
    "collapsed": true
   },
   "outputs": [],
   "source": [
    "get_model = get_pretty_tensor_model"
   ]
  },
  {
   "cell_type": "code",
   "execution_count": 8,
   "metadata": {
    "collapsed": true
   },
   "outputs": [],
   "source": [
    "import numpy as np\n",
    "\n",
    "''' Build a 2-layer LSTM from a training corpus '''\n",
    "\n",
    "\n",
    "def build_model(corpus, val_indices, max_len, N_epochs=128):\n",
    "    # number of different values or words in corpus\n",
    "    N_values = len(set(corpus))\n",
    "\n",
    "    # cut the corpus into semi-redundant sequences of max_len values\n",
    "    step = 3\n",
    "    sentences = []\n",
    "    next_values = []\n",
    "    for i in range(0, len(corpus) - max_len, step):\n",
    "        sentences.append(corpus[i: i + max_len])\n",
    "        next_values.append(corpus[i + max_len])\n",
    "    print('nb sequences:', len(sentences))\n",
    "\n",
    "    # transform data into binary matrices\n",
    "    X = np.zeros((len(sentences), max_len, N_values), dtype=np.bool)\n",
    "    y = np.zeros((len(sentences), N_values), dtype=np.bool)\n",
    "    for i, sentence in enumerate(sentences):\n",
    "        for t, val in enumerate(sentence):\n",
    "            X[i, t, val_indices[val]] = 1\n",
    "        y[i, val_indices[next_values[i]]] = 1\n",
    "\n",
    "    model = get_model(max_len, N_values)\n",
    "    model.fit(X, y, batch_size=10, epochs=N_epochs)\n",
    "\n",
    "    return model\n"
   ]
  },
  {
   "cell_type": "code",
   "execution_count": 9,
   "metadata": {},
   "outputs": [
    {
     "name": "stdout",
     "output_type": "stream",
     "text": [
      "nb sequences: 58\n",
      "After pruning: 13 notes\n",
      "After pruning: 12 notes\n",
      "After pruning: 11 notes\n",
      "After pruning: 14 notes\n",
      "After pruning: 13 notes\n",
      "After pruning: 15 notes\n",
      "After pruning: 14 notes\n",
      "After pruning: 13 notes\n",
      "After pruning: 12 notes\n",
      "After pruning: 12 notes\n",
      "After pruning: 13 notes\n",
      "After pruning: 17 notes\n",
      "After pruning: 14 notes\n",
      "After pruning: 13 notes\n",
      "After pruning: 12 notes\n",
      "After pruning: 14 notes\n",
      "After pruning: 13 notes\n",
      "After pruning: 11 notes\n"
     ]
    }
   ],
   "source": [
    "import tensorflow as tf\n",
    "\n",
    "# build model\n",
    "model = build_model(corpus=corpus, val_indices=val_indices,\n",
    "                         max_len=max_len, N_epochs=N_epochs)\n",
    "\n",
    "# set up audio stream\n",
    "out_stream = stream.Stream()\n",
    "\n",
    "# generation loop\n",
    "curr_offset = 0.0\n",
    "loopEnd = len(chords)\n",
    "for loopIndex in range(1, loopEnd):\n",
    "    # get chords from file\n",
    "    curr_chords = stream.Voice()\n",
    "    for j in chords[loopIndex]:\n",
    "        curr_chords.insert((j.offset % 4), j)\n",
    "\n",
    "    # generate grammar\n",
    "    curr_grammar = __generate_grammar(model=model, corpus=corpus,\n",
    "                                      abstract_grammars=abstract_grammars,\n",
    "                                      values=values, val_indices=val_indices,\n",
    "                                      indices_val=indices_val,\n",
    "                                      max_len=max_len, max_tries=max_tries,\n",
    "                                      diversity=diversity)\n",
    "\n",
    "    curr_grammar = curr_grammar.replace(' A', ' C').replace(' X', ' C')\n",
    "\n",
    "    # Pruning #1: smoothing measure\n",
    "    curr_grammar = prune_grammar(curr_grammar)\n",
    "\n",
    "    # Get notes from grammar and chords\n",
    "    curr_notes = unparse_grammar(curr_grammar, curr_chords)\n",
    "\n",
    "    # Pruning #2: removing repeated and too close together notes\n",
    "    curr_notes = prune_notes(curr_notes)\n",
    "\n",
    "    # quality assurance: clean up notes\n",
    "    curr_notes = clean_up_notes(curr_notes)\n",
    "\n",
    "    # print # of notes in curr_notes\n",
    "    print('After pruning: %s notes' % (len([i for i in curr_notes\n",
    "                                            if isinstance(i, note.Note)])))\n",
    "\n",
    "    # insert into the output stream\n",
    "    for m in curr_notes:\n",
    "        out_stream.insert(curr_offset + m.offset, m)\n",
    "    for mc in curr_chords:\n",
    "        out_stream.insert(curr_offset + mc.offset, mc)\n",
    "\n",
    "    curr_offset += 4.0\n",
    "\n",
    "out_stream.insert(0.0, tempo.MetronomeMark(number=bpm))\n",
    "\n",
    "# Play the final stream through output (see 'play' lambda function above)\n",
    "play = lambda x: midi.realtime.StreamPlayer(x).play()\n",
    "play(out_stream)\n",
    "\n",
    "# save stream\n",
    "mf = midi.translate.streamToMidiFile(out_stream)\n",
    "mf.open(out_fn, 'wb')\n",
    "mf.write()\n",
    "mf.close()    "
   ]
  },
  {
   "cell_type": "markdown",
   "metadata": {},
   "source": [
    "You can play generated sample using any midi player\n",
    "\n",
    "Under linux I prefer timidity"
   ]
  },
  {
   "cell_type": "code",
   "execution_count": 13,
   "metadata": {},
   "outputs": [
    {
     "data": {
      "text/plain": [
       "['Requested buffer size 32768, fragment size 8192',\n",
       " \"ALSA pcm 'default' set buffer size 32768, period size 8192 bytes\",\n",
       " 'Playing midi/deepjazz_on_metheny...128',\n",
       " 'MIDI file: midi/deepjazz_on_metheny...128',\n",
       " 'Format: 1  Tracks: 1  Divisions: 1024',\n",
       " 'Sequence: ',\n",
       " 'Playing time: ~38 seconds',\n",
       " 'Notes cut: 0',\n",
       " 'Notes lost totally: 0']"
      ]
     },
     "execution_count": 13,
     "metadata": {},
     "output_type": "execute_result"
    }
   ],
   "source": [
    "!! timidity midi/deepjazz_on_metheny...128"
   ]
  },
  {
   "cell_type": "code",
   "execution_count": null,
   "metadata": {
    "collapsed": true
   },
   "outputs": [],
   "source": []
  }
 ],
 "metadata": {
  "kernelspec": {
   "display_name": "Python 3",
   "language": "python",
   "name": "python3"
  },
  "language_info": {
   "codemirror_mode": {
    "name": "ipython",
    "version": 3
   },
   "file_extension": ".py",
   "mimetype": "text/x-python",
   "name": "python",
   "nbconvert_exporter": "python",
   "pygments_lexer": "ipython3",
   "version": "3.6.1"
  }
 },
 "nbformat": 4,
 "nbformat_minor": 2
}

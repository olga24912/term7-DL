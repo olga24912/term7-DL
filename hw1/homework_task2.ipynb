{
 "cells": [
  {
   "cell_type": "code",
   "execution_count": 1,
   "metadata": {
    "collapsed": true
   },
   "outputs": [],
   "source": [
    "import os\n",
    "import numpy as np\n",
    "import tensorflow as tf\n",
    "from tensorflow.examples.tutorials.mnist import input_data\n",
    "import time"
   ]
  },
  {
   "cell_type": "code",
   "execution_count": 2,
   "metadata": {
    "collapsed": true
   },
   "outputs": [],
   "source": [
    "# Define paramaters for the model\n",
    "learning_rate = 0.01\n",
    "batch_size = 128\n",
    "n_epochs = 35"
   ]
  },
  {
   "cell_type": "markdown",
   "metadata": {},
   "source": [
    "Step 1: Read in data<br>\n",
    "using TF Learn's built in function to load MNIST data to the folder data/mnist"
   ]
  },
  {
   "cell_type": "code",
   "execution_count": 3,
   "metadata": {},
   "outputs": [
    {
     "name": "stdout",
     "output_type": "stream",
     "text": [
      "Extracting data/mnist/train-images-idx3-ubyte.gz\n",
      "Extracting data/mnist/train-labels-idx1-ubyte.gz\n",
      "Extracting data/mnist/t10k-images-idx3-ubyte.gz\n",
      "Extracting data/mnist/t10k-labels-idx1-ubyte.gz\n"
     ]
    }
   ],
   "source": [
    "mnist = input_data.read_data_sets('data/mnist', one_hot=True) "
   ]
  },
  {
   "cell_type": "markdown",
   "metadata": {},
   "source": [
    "Step 2: create placeholders for features and labels<br>\n",
    "each image in the MNIST data is of shape 28*28 = 784<br>\n",
    "therefore, each image is represented with a 1x784 tensor<br>\n",
    "there are 10 classes for each image, corresponding to digits 0 - 9.<br>\n",
    "Features are of the type float, and labels are of the type int<br>"
   ]
  },
  {
   "cell_type": "code",
   "execution_count": 4,
   "metadata": {
    "collapsed": true
   },
   "outputs": [],
   "source": [
    "X = tf.placeholder(tf.float32, shape=(None, 784), name = \"X\")\n",
    "Y = tf.placeholder(tf.float32, shape=(None, 10), name = \"Y\")"
   ]
  },
  {
   "cell_type": "markdown",
   "metadata": {},
   "source": [
    "Step 3: create weights and bias<br>\n",
    "weights and biases are initialized to 0<br>\n",
    "shape of w depends on the dimension of X and Y so that Y = X * w + b<br>\n",
    "shape of b depends on Y<br>"
   ]
  },
  {
   "cell_type": "code",
   "execution_count": 5,
   "metadata": {
    "collapsed": true
   },
   "outputs": [],
   "source": [
    "#b = tf.Variable(tf.zeros(shape=(10)))\n",
    "#w = tf.Variable(tf.zeros(shape=(784,10)))\n",
    "\n",
    "b = tf.Variable(tf.random_normal(shape=[10], stddev=0.05), name = \"b\")\n",
    "w = tf.Variable(tf.random_normal(shape=[784,10], stddev=0.05), name = \"w\")"
   ]
  },
  {
   "cell_type": "markdown",
   "metadata": {},
   "source": [
    "Step 4: build model<br>\n",
    "the model that returns the logits.<br>\n",
    "this logits will be later passed through softmax layer<br>\n",
    "to get the probability distribution of possible label of the image<br>\n",
    "DO NOT DO SOFTMAX HERE<br>"
   ]
  },
  {
   "cell_type": "code",
   "execution_count": 6,
   "metadata": {
    "collapsed": true
   },
   "outputs": [],
   "source": [
    "logits = tf.matmul(X, w) + b"
   ]
  },
  {
   "cell_type": "markdown",
   "metadata": {},
   "source": [
    "Step 5: define loss function<br>\n",
    "use cross entropy loss of the real labels with the softmax of logits<br>\n",
    "use the method:<br>\n",
    "tf.nn.softmax_cross_entropy_with_logits(logits, Y)<br>\n",
    "then use tf.reduce_mean to get the mean loss of the batch<br>"
   ]
  },
  {
   "cell_type": "code",
   "execution_count": 7,
   "metadata": {
    "collapsed": true
   },
   "outputs": [],
   "source": [
    "loss = tf.nn.softmax_cross_entropy_with_logits(logits=logits, labels=Y, name = \"loss\")\n",
    "mean = tf.reduce_mean(loss, name = \"loss_mean\")"
   ]
  },
  {
   "cell_type": "markdown",
   "metadata": {},
   "source": [
    "Step 6: define training op<br>\n",
    "using gradient descent to minimize loss"
   ]
  },
  {
   "cell_type": "code",
   "execution_count": 8,
   "metadata": {},
   "outputs": [
    {
     "name": "stdout",
     "output_type": "stream",
     "text": [
      "Average loss epoch 0: 1.3338024325859852\n",
      "Average loss epoch 1: 0.7472463590559704\n",
      "Average loss epoch 2: 0.6097073436200202\n",
      "Average loss epoch 3: 0.5434367309361349\n",
      "Average loss epoch 4: 0.5037760941576569\n",
      "Average loss epoch 5: 0.47620376618036303\n",
      "Average loss epoch 6: 0.45642632968498\n",
      "Average loss epoch 7: 0.43929484000294916\n",
      "Average loss epoch 8: 0.42752696907186843\n",
      "Average loss epoch 9: 0.4163512593104845\n",
      "Average loss epoch 10: 0.40826535874452347\n",
      "Average loss epoch 11: 0.3992256983454689\n",
      "Average loss epoch 12: 0.3937506363455788\n",
      "Average loss epoch 13: 0.38713979443192204\n",
      "Average loss epoch 14: 0.380808454015594\n",
      "Average loss epoch 15: 0.3780488070352372\n",
      "Average loss epoch 16: 0.37255765185072703\n",
      "Average loss epoch 17: 0.36824117531448536\n",
      "Average loss epoch 18: 0.3653256537822577\n",
      "Average loss epoch 19: 0.36228231978027414\n",
      "Average loss epoch 20: 0.3588094764795059\n",
      "Average loss epoch 21: 0.3561849155417689\n",
      "Average loss epoch 22: 0.3527647639626945\n",
      "Average loss epoch 23: 0.3510185281088302\n",
      "Average loss epoch 24: 0.3489125694358821\n",
      "Average loss epoch 25: 0.3454069446572613\n",
      "Average loss epoch 26: 0.34414885507458015\n",
      "Average loss epoch 27: 0.3409545722054991\n",
      "Average loss epoch 28: 0.34057356490121854\n",
      "Average loss epoch 29: 0.3387660503317982\n",
      "Average loss epoch 30: 0.33593804630644114\n",
      "Average loss epoch 31: 0.3361449025241367\n",
      "Average loss epoch 32: 0.3317174289054248\n",
      "Average loss epoch 33: 0.33226023909651037\n",
      "Average loss epoch 34: 0.3297198513448933\n",
      "Total time: 23.11117124557495 seconds\n",
      "Optimization Finished!\n",
      "Accuracy 0.9124\n"
     ]
    }
   ],
   "source": [
    "opt = (tf.train.GradientDescentOptimizer(learning_rate)).minimize(mean, name = \"opt\")\n",
    "\n",
    "with tf.Session() as sess:\n",
    "\tstart_time = time.time()\n",
    "\tsess.run(tf.global_variables_initializer())\t\n",
    "\tn_batches = int(mnist.train.num_examples/batch_size)\n",
    "\tfor i in range(n_epochs): # train the model n_epochs times\n",
    "\t\ttotal_loss = 0\n",
    "\n",
    "\t\tfor _ in range(n_batches):\n",
    "\t\t\tX_batch, Y_batch = mnist.train.next_batch(batch_size)\n",
    "\t\t\t\n",
    "\t\t\t_,loss_batch = sess.run([opt, mean], feed_dict={X:X_batch, Y:Y_batch})\n",
    "\t\t\ttotal_loss += loss_batch\n",
    "\t\tprint('Average loss epoch {0}: {1}'.format(i, total_loss/n_batches))\n",
    "\n",
    "\tprint('Total time: {0} seconds'.format(time.time() - start_time))\n",
    "\n",
    "\tprint('Optimization Finished!') # should be around 0.35 after 25 epochs\n",
    "\n",
    "\t# test the model\n",
    "\tpreds = tf.nn.softmax(logits)\n",
    "\tcorrect_preds = tf.equal(tf.argmax(preds, 1), tf.argmax(Y, 1))\n",
    "\taccuracy = tf.reduce_sum(tf.cast(correct_preds, tf.float32)) # need numpy.count_nonzero(boolarr) :(\n",
    "\t\n",
    "\tn_batches = int(mnist.test.num_examples/batch_size)\n",
    "\ttotal_correct_preds = 0\n",
    "\t\n",
    "\tfor i in range(n_batches):\n",
    "\t\tX_batch, Y_batch = mnist.test.next_batch(batch_size)\n",
    "\t\taccuracy_batch = sess.run([accuracy], feed_dict={X: X_batch, Y:Y_batch}) \n",
    "\t\ttotal_correct_preds += accuracy_batch[0]\n",
    "\t\n",
    "\tprint('Accuracy {0}'.format(total_correct_preds/mnist.test.num_examples))"
   ]
  }
 ],
 "metadata": {
  "kernelspec": {
   "display_name": "Python 3",
   "language": "python",
   "name": "python3"
  },
  "language_info": {
   "codemirror_mode": {
    "name": "ipython",
    "version": 3
   },
   "file_extension": ".py",
   "mimetype": "text/x-python",
   "name": "python",
   "nbconvert_exporter": "python",
   "pygments_lexer": "ipython3",
   "version": "3.6.1"
  }
 },
 "nbformat": 4,
 "nbformat_minor": 2
}
